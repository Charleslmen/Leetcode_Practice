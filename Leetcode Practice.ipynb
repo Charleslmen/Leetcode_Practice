{
 "cells": [
  {
   "cell_type": "markdown",
   "metadata": {},
   "source": [
    "### Easy"
   ]
  },
  {
   "cell_type": "markdown",
   "metadata": {},
   "source": [
    "***1. Two Sum***"
   ]
  },
  {
   "cell_type": "code",
   "execution_count": 23,
   "metadata": {},
   "outputs": [],
   "source": [
    "def twoSum(arr,target):\n",
    "    store={}\n",
    "    for i in range(len(arr)):\n",
    "        search=target-arr[i]\n",
    "        if search in store:\n",
    "            return [store[search],i]\n",
    "        store[arr[i]]=i\n",
    "    return 0"
   ]
  },
  {
   "cell_type": "code",
   "execution_count": 24,
   "metadata": {},
   "outputs": [
    {
     "data": {
      "text/plain": [
       "[0, 2]"
      ]
     },
     "execution_count": 24,
     "metadata": {},
     "output_type": "execute_result"
    }
   ],
   "source": [
    "twoSum([2,8,7,11],9)"
   ]
  },
  {
   "cell_type": "markdown",
   "metadata": {},
   "source": [
    "***2.Reverse Integer***"
   ]
  },
  {
   "cell_type": "code",
   "execution_count": 26,
   "metadata": {},
   "outputs": [],
   "source": [
    "def reverse(x):\n",
    "    x=int(str(x)[::-1]) if x >=0 else -int(str(-x)[::-1])\n",
    "    return x if (-2)**31 <= x <= (2**31)-1 else 0"
   ]
  },
  {
   "cell_type": "code",
   "execution_count": 28,
   "metadata": {},
   "outputs": [
    {
     "data": {
      "text/plain": [
       "-321"
      ]
     },
     "execution_count": 28,
     "metadata": {},
     "output_type": "execute_result"
    }
   ],
   "source": [
    "reverse(-123)"
   ]
  },
  {
   "cell_type": "markdown",
   "metadata": {},
   "source": [
    "***3.Palindrome Number***"
   ]
  },
  {
   "cell_type": "code",
   "execution_count": 24,
   "metadata": {},
   "outputs": [],
   "source": [
    "def isPalindrome(x):\n",
    "    if x <0:\n",
    "        return False\n",
    "    tmp=x\n",
    "    y=0\n",
    "    while tmp:\n",
    "        y=y*10+int(tmp%10)\n",
    "        tmp=int(tmp/10)\n",
    "    return y==x"
   ]
  },
  {
   "cell_type": "code",
   "execution_count": 28,
   "metadata": {},
   "outputs": [
    {
     "data": {
      "text/plain": [
       "True"
      ]
     },
     "execution_count": 28,
     "metadata": {},
     "output_type": "execute_result"
    }
   ],
   "source": [
    "isPalindrome(1221)"
   ]
  },
  {
   "cell_type": "markdown",
   "metadata": {},
   "source": [
    "***4.Roman to Integer***"
   ]
  },
  {
   "cell_type": "code",
   "execution_count": 31,
   "metadata": {},
   "outputs": [],
   "source": [
    "def romanToInteger(s):\n",
    "    digits={'I':1,'V':5,'X':10,'L':50,'C':100,'D':500,'M':1000}\n",
    "    sum=0\n",
    "    maxDigit=1\n",
    "    for i in range(len(s)-1,-1,-1):\n",
    "        if digits[s[i]]>=maxDigit:\n",
    "            maxDigit=digits[s[i]]\n",
    "            sum+=digits[s[i]]\n",
    "        else:\n",
    "            sum-=digits[s[i]]\n",
    "    return sum"
   ]
  },
  {
   "cell_type": "code",
   "execution_count": 34,
   "metadata": {},
   "outputs": [
    {
     "data": {
      "text/plain": [
       "4"
      ]
     },
     "execution_count": 34,
     "metadata": {},
     "output_type": "execute_result"
    }
   ],
   "source": [
    "romanToInteger('IV')"
   ]
  },
  {
   "cell_type": "markdown",
   "metadata": {},
   "source": [
    "***5.Longest Common Prefix***"
   ]
  },
  {
   "cell_type": "code",
   "execution_count": 45,
   "metadata": {},
   "outputs": [],
   "source": [
    "def longestCommonPrefix(arr):\n",
    "    if not arr:\n",
    "        return ''\n",
    "    res=''\n",
    "    for i in range(len(arr[0])):\n",
    "        for j in range(1,len(arr)):\n",
    "            if i >= len(arr[j]) or arr[j][i]!=arr[0][i]:\n",
    "                return res\n",
    "        res+=arr[j][i]\n",
    "    return res"
   ]
  },
  {
   "cell_type": "code",
   "execution_count": 48,
   "metadata": {},
   "outputs": [
    {
     "data": {
      "text/plain": [
       "'fl'"
      ]
     },
     "execution_count": 48,
     "metadata": {},
     "output_type": "execute_result"
    }
   ],
   "source": [
    "longestCommonPrefix([\"flower\",\"flow\",\"flight\"])"
   ]
  },
  {
   "cell_type": "markdown",
   "metadata": {},
   "source": [
    "***6.Valid Parenthese***"
   ]
  },
  {
   "cell_type": "code",
   "execution_count": 49,
   "metadata": {},
   "outputs": [],
   "source": [
    "def isvalid(s):\n",
    "    pars=[None]\n",
    "    parmap={')':'(',']':'[','}':'{'}\n",
    "    for c in s:\n",
    "        if c in parmap and parmap[c]==pars[len(pars)-1]:\n",
    "            pars.pop()\n",
    "        else:\n",
    "            pars.append(c)\n",
    "    return len(pars)==1"
   ]
  },
  {
   "cell_type": "code",
   "execution_count": 53,
   "metadata": {},
   "outputs": [
    {
     "data": {
      "text/plain": [
       "True"
      ]
     },
     "execution_count": 53,
     "metadata": {},
     "output_type": "execute_result"
    }
   ],
   "source": [
    "isvalid('()()()')"
   ]
  },
  {
   "cell_type": "markdown",
   "metadata": {},
   "source": [
    "***7. Merge Two Sorted Lists***"
   ]
  },
  {
   "cell_type": "code",
   "execution_count": 73,
   "metadata": {},
   "outputs": [],
   "source": [
    "def mergeTwoLists(l1,l2):\n",
    "    if not l1 or not l2:\n",
    "        return l1 or l2\n",
    "    head=cur=ListNode(0)\n",
    "    while l1 and l2:\n",
    "        if l1.val<l2.val:\n",
    "            cur.next=l1\n",
    "            l1=l1.next\n",
    "        else:\n",
    "            cur.next=l2\n",
    "            l2=l2.next\n",
    "        cur=cur.next\n",
    "        cur.next=l1 or l2\n",
    "        return head.next"
   ]
  },
  {
   "cell_type": "markdown",
   "metadata": {},
   "source": [
    "***8.Remove Duplicates from Sorted Array***"
   ]
  },
  {
   "cell_type": "code",
   "execution_count": 91,
   "metadata": {},
   "outputs": [],
   "source": [
    "def removeDuplicates(arr):\n",
    "    if len(arr)==0:\n",
    "        return 0\n",
    "    cur=0\n",
    "    for i in range(1,len(arr)):\n",
    "        if arr[i]!=arr[cur]:\n",
    "            cur+=1\n",
    "    return cur+1"
   ]
  },
  {
   "cell_type": "code",
   "execution_count": 92,
   "metadata": {},
   "outputs": [
    {
     "data": {
      "text/plain": [
       "3"
      ]
     },
     "execution_count": 92,
     "metadata": {},
     "output_type": "execute_result"
    }
   ],
   "source": [
    "removeDuplicates([1,2,3,3])"
   ]
  },
  {
   "cell_type": "markdown",
   "metadata": {},
   "source": [
    "***9.Remove Element***"
   ]
  },
  {
   "cell_type": "code",
   "execution_count": 32,
   "metadata": {},
   "outputs": [],
   "source": [
    "def removeElement(arr,int):\n",
    "    length=0\n",
    "    for i in range(len(arr)):\n",
    "        if arr[i]!=int:\n",
    "            arr[length]=arr[i]\n",
    "            length+=1\n",
    "    return length    "
   ]
  },
  {
   "cell_type": "code",
   "execution_count": 33,
   "metadata": {},
   "outputs": [
    {
     "data": {
      "text/plain": [
       "2"
      ]
     },
     "execution_count": 33,
     "metadata": {},
     "output_type": "execute_result"
    }
   ],
   "source": [
    "removeElement([3,2,2,3],3)\n",
    "# removeElement([0,1,2,2,3,0,4,2],2)"
   ]
  },
  {
   "cell_type": "code",
   "execution_count": null,
   "metadata": {},
   "outputs": [],
   "source": []
  }
 ],
 "metadata": {
  "kernelspec": {
   "display_name": "Python 3",
   "language": "python",
   "name": "python3"
  },
  "language_info": {
   "codemirror_mode": {
    "name": "ipython",
    "version": 3
   },
   "file_extension": ".py",
   "mimetype": "text/x-python",
   "name": "python",
   "nbconvert_exporter": "python",
   "pygments_lexer": "ipython3",
   "version": "3.6.5"
  }
 },
 "nbformat": 4,
 "nbformat_minor": 2
}
